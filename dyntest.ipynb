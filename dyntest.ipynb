{
 "cells": [
  {
   "cell_type": "markdown",
   "metadata": {
    "slideshow": {
     "slide_type": "slide"
    }
   },
   "source": [
    "# What's the fuzz all about?\n",
    "## Dynamic Unit Testing in Python\n",
    "\n",
    "* Moritz Gronbach, Blue Yonder\n",
    "* EuroPython 2015, Bilbao, Spain\n",
    "* [https://github.com/mogron/ep_dyntest](https://github.com/mogron/ep_dyntest)"
   ]
  },
  {
   "cell_type": "markdown",
   "metadata": {
    "collapsed": true,
    "slideshow": {
     "slide_type": "slide"
    }
   },
   "source": [
    "# What is dynamic unit testing"
   ]
  },
  {
   "cell_type": "code",
   "execution_count": 2,
   "metadata": {
    "collapsed": false,
    "slideshow": {
     "slide_type": "slide"
    }
   },
   "outputs": [],
   "source": [
    "from math import sqrt\n",
    "\n",
    "\n",
    "def fib(n):\n",
    "    \"\"\"Computes the n-th Fibonacci number.\n",
    "    fib(0) == fib(1) == 1\n",
    "    fib(n) == fib(n - 1) + fib(n - 2)\n",
    "    1, 1, 2, 3, 5, 8, ...\"\"\"\n",
    "    sqrt_5 = sqrt(5)\n",
    "    p = (1 + sqrt_5) / 2\n",
    "    q = 1/p\n",
    "    return int((p**n + q**n) / sqrt_5 + 0.5)"
   ]
  },
  {
   "cell_type": "code",
   "execution_count": 3,
   "metadata": {
    "collapsed": false,
    "slideshow": {
     "slide_type": "subslide"
    }
   },
   "outputs": [
    {
     "name": "stdout",
     "output_type": "stream",
     "text": [
      "Tests passed!\n"
     ]
    }
   ],
   "source": [
    "def test_fib():\n",
    "    assert(fib(1) == 1)\n",
    "    assert(fib(2) == 1)\n",
    "    assert(fib(3) == 2)\n",
    "    assert(fib(6) == 8)\n",
    "    assert(fib(50) == 12586269025)\n",
    "    print(\"Tests passed!\")\n",
    "\n",
    "test_fib()"
   ]
  },
  {
   "cell_type": "code",
   "execution_count": 4,
   "metadata": {
    "collapsed": false,
    "slideshow": {
     "slide_type": "subslide"
    }
   },
   "outputs": [],
   "source": [
    "from hypothesis import given\n",
    "from hypothesis.strategies import integers\n",
    "from hypothesis import Settings, Verbosity\n",
    "\n",
    "\n",
    "# settings to increase chances of a smooth presentation\n",
    "Settings.default.derandomize = True\n",
    "Settings.default.max_iterations = 50\n",
    "Settings.default.timeout = 20\n",
    "Settings.database = None"
   ]
  },
  {
   "cell_type": "code",
   "execution_count": 6,
   "metadata": {
    "collapsed": true,
    "slideshow": {
     "slide_type": "subslide"
    }
   },
   "outputs": [
    {
     "name": "stdout",
     "output_type": "stream",
     "text": [
      "Trying example: test_fib_reccurence(n=69)\n",
      "Trying example: test_fib_reccurence(n=901)\n",
      "Trying example: test_fib_reccurence(n=568)\n",
      "Traceback (most recent call last):\n",
      "  File \"/home/DataScience/virtualenv/local/lib/python2.7/site-packages/hypothesis/core.py\", line 494, in is_template_example\n",
      "    always_print=settings.max_shrinks <= 0\n",
      "  File \"/home/DataScience/virtualenv/local/lib/python2.7/site-packages/hypothesis/executors/executors.py\", line 26, in default_executor\n",
      "    return function()\n",
      "  File \"/home/DataScience/virtualenv/local/lib/python2.7/site-packages/hypothesis/core.py\", line 340, in run\n",
      "    return test(*args, **kwargs)\n",
      "  File \"<ipython-input-6-63b1d755da88>\", line 4, in test_fib_reccurence\n",
      "    assert(fib(n) == fib(n-1) + fib(n-2))\n",
      "AssertionError\n",
      "\n",
      "Trying example: test_fib_reccurence(n=3)\n",
      "Trying example: test_fib_reccurence(n=285)\n",
      "Traceback (most recent call last):\n",
      "  File \"/home/DataScience/virtualenv/local/lib/python2.7/site-packages/hypothesis/core.py\", line 494, in is_template_example\n",
      "    always_print=settings.max_shrinks <= 0\n",
      "  File \"/home/DataScience/virtualenv/local/lib/python2.7/site-packages/hypothesis/executors/executors.py\", line 26, in default_executor\n",
      "    return function()\n",
      "  File \"/home/DataScience/virtualenv/local/lib/python2.7/site-packages/hypothesis/core.py\", line 340, in run\n",
      "    return test(*args, **kwargs)\n",
      "  File \"<ipython-input-6-63b1d755da88>\", line 4, in test_fib_reccurence\n",
      "    assert(fib(n) == fib(n-1) + fib(n-2))\n",
      "AssertionError\n",
      "\n",
      "Trying example: test_fib_reccurence(n=144)\n",
      "Traceback (most recent call last):\n",
      "  File \"/home/DataScience/virtualenv/local/lib/python2.7/site-packages/hypothesis/core.py\", line 494, in is_template_example\n",
      "    always_print=settings.max_shrinks <= 0\n",
      "  File \"/home/DataScience/virtualenv/local/lib/python2.7/site-packages/hypothesis/executors/executors.py\", line 26, in default_executor\n",
      "    return function()\n",
      "  File \"/home/DataScience/virtualenv/local/lib/python2.7/site-packages/hypothesis/core.py\", line 340, in run\n",
      "    return test(*args, **kwargs)\n",
      "  File \"<ipython-input-6-63b1d755da88>\", line 4, in test_fib_reccurence\n",
      "    assert(fib(n) == fib(n-1) + fib(n-2))\n",
      "AssertionError\n",
      "\n",
      "Trying example: test_fib_reccurence(n=73)\n",
      "Trying example: test_fib_reccurence(n=108)\n",
      "Trying example: test_fib_reccurence(n=126)\n",
      "Traceback (most recent call last):\n",
      "  File \"/home/DataScience/virtualenv/local/lib/python2.7/site-packages/hypothesis/core.py\", line 494, in is_template_example\n",
      "    always_print=settings.max_shrinks <= 0\n",
      "  File \"/home/DataScience/virtualenv/local/lib/python2.7/site-packages/hypothesis/executors/executors.py\", line 26, in default_executor\n",
      "    return function()\n",
      "  File \"/home/DataScience/virtualenv/local/lib/python2.7/site-packages/hypothesis/core.py\", line 340, in run\n",
      "    return test(*args, **kwargs)\n",
      "  File \"<ipython-input-6-63b1d755da88>\", line 4, in test_fib_reccurence\n",
      "    assert(fib(n) == fib(n-1) + fib(n-2))\n",
      "AssertionError\n",
      "\n",
      "Trying example: test_fib_reccurence(n=64)\n",
      "Trying example: test_fib_reccurence(n=95)\n",
      "Traceback (most recent call last):\n",
      "  File \"/home/DataScience/virtualenv/local/lib/python2.7/site-packages/hypothesis/core.py\", line 494, in is_template_example\n",
      "    always_print=settings.max_shrinks <= 0\n",
      "  File \"/home/DataScience/virtualenv/local/lib/python2.7/site-packages/hypothesis/executors/executors.py\", line 26, in default_executor\n",
      "    return function()\n",
      "  File \"/home/DataScience/virtualenv/local/lib/python2.7/site-packages/hypothesis/core.py\", line 340, in run\n",
      "    return test(*args, **kwargs)\n",
      "  File \"<ipython-input-6-63b1d755da88>\", line 4, in test_fib_reccurence\n",
      "    assert(fib(n) == fib(n-1) + fib(n-2))\n",
      "AssertionError\n",
      "\n",
      "Trying example: test_fib_reccurence(n=49)\n",
      "Trying example: test_fib_reccurence(n=72)\n",
      "Trying example: test_fib_reccurence(n=83)\n",
      "Traceback (most recent call last):\n",
      "  File \"/home/DataScience/virtualenv/local/lib/python2.7/site-packages/hypothesis/core.py\", line 494, in is_template_example\n",
      "    always_print=settings.max_shrinks <= 0\n",
      "  File \"/home/DataScience/virtualenv/local/lib/python2.7/site-packages/hypothesis/executors/executors.py\", line 26, in default_executor\n",
      "    return function()\n",
      "  File \"/home/DataScience/virtualenv/local/lib/python2.7/site-packages/hypothesis/core.py\", line 340, in run\n",
      "    return test(*args, **kwargs)\n",
      "  File \"<ipython-input-6-63b1d755da88>\", line 4, in test_fib_reccurence\n",
      "    assert(fib(n) == fib(n-1) + fib(n-2))\n",
      "AssertionError\n",
      "\n",
      "Trying example: test_fib_reccurence(n=43)\n",
      "Trying example: test_fib_reccurence(n=63)\n",
      "Trying example: test_fib_reccurence(n=78)\n",
      "Trying example: test_fib_reccurence(n=80)\n",
      "Traceback (most recent call last):\n",
      "  File \"/home/DataScience/virtualenv/local/lib/python2.7/site-packages/hypothesis/core.py\", line 494, in is_template_example\n",
      "    always_print=settings.max_shrinks <= 0\n",
      "  File \"/home/DataScience/virtualenv/local/lib/python2.7/site-packages/hypothesis/executors/executors.py\", line 26, in default_executor\n",
      "    return function()\n",
      "  File \"/home/DataScience/virtualenv/local/lib/python2.7/site-packages/hypothesis/core.py\", line 340, in run\n",
      "    return test(*args, **kwargs)\n",
      "  File \"<ipython-input-6-63b1d755da88>\", line 4, in test_fib_reccurence\n",
      "    assert(fib(n) == fib(n-1) + fib(n-2))\n",
      "AssertionError\n",
      "\n",
      "Trying example: test_fib_reccurence(n=41)\n",
      "Trying example: test_fib_reccurence(n=60)\n",
      "Trying example: test_fib_reccurence(n=70)\n",
      "Trying example: test_fib_reccurence(n=75)\n",
      "Trying example: test_fib_reccurence(n=77)\n",
      "Traceback (most recent call last):\n",
      "  File \"/home/DataScience/virtualenv/local/lib/python2.7/site-packages/hypothesis/core.py\", line 494, in is_template_example\n",
      "    always_print=settings.max_shrinks <= 0\n",
      "  File \"/home/DataScience/virtualenv/local/lib/python2.7/site-packages/hypothesis/executors/executors.py\", line 26, in default_executor\n",
      "    return function()\n",
      "  File \"/home/DataScience/virtualenv/local/lib/python2.7/site-packages/hypothesis/core.py\", line 340, in run\n",
      "    return test(*args, **kwargs)\n",
      "  File \"<ipython-input-6-63b1d755da88>\", line 4, in test_fib_reccurence\n",
      "    assert(fib(n) == fib(n-1) + fib(n-2))\n",
      "AssertionError\n",
      "\n",
      "Trying example: test_fib_reccurence(n=40)\n",
      "Trying example: test_fib_reccurence(n=58)\n",
      "Trying example: test_fib_reccurence(n=67)\n",
      "Trying example: test_fib_reccurence(n=74)\n",
      "Trying example: test_fib_reccurence(n=76)\n",
      "Traceback (most recent call last):\n",
      "  File \"/home/DataScience/virtualenv/local/lib/python2.7/site-packages/hypothesis/core.py\", line 494, in is_template_example\n",
      "    always_print=settings.max_shrinks <= 0\n",
      "  File \"/home/DataScience/virtualenv/local/lib/python2.7/site-packages/hypothesis/executors/executors.py\", line 26, in default_executor\n",
      "    return function()\n",
      "  File \"/home/DataScience/virtualenv/local/lib/python2.7/site-packages/hypothesis/core.py\", line 340, in run\n",
      "    return test(*args, **kwargs)\n",
      "  File \"<ipython-input-6-63b1d755da88>\", line 4, in test_fib_reccurence\n",
      "    assert(fib(n) == fib(n-1) + fib(n-2))\n",
      "AssertionError\n",
      "\n",
      "Trying example: test_fib_reccurence(n=39)\n",
      "Trying example: test_fib_reccurence(n=57)\n",
      "Trying example: test_fib_reccurence(n=66)\n",
      "Trying example: test_fib_reccurence(n=71)\n",
      "Traceback (most recent call last):\n",
      "  File \"/home/DataScience/virtualenv/local/lib/python2.7/site-packages/hypothesis/core.py\", line 494, in is_template_example\n",
      "    always_print=settings.max_shrinks <= 0\n",
      "  File \"/home/DataScience/virtualenv/local/lib/python2.7/site-packages/hypothesis/executors/executors.py\", line 26, in default_executor\n",
      "    return function()\n",
      "  File \"/home/DataScience/virtualenv/local/lib/python2.7/site-packages/hypothesis/core.py\", line 340, in run\n",
      "    return test(*args, **kwargs)\n",
      "  File \"<ipython-input-6-63b1d755da88>\", line 4, in test_fib_reccurence\n",
      "    assert(fib(n) == fib(n-1) + fib(n-2))\n",
      "AssertionError\n",
      "\n",
      "Trying example: test_fib_reccurence(n=37)\n",
      "Trying example: test_fib_reccurence(n=54)\n",
      "Trying example: test_fib_reccurence(n=62)\n",
      "Trying example: test_fib_reccurence(n=68)\n",
      "Trying example: test_fib_reccurence(n=50)\n",
      "Trying example: test_fib_reccurence(n=56)\n",
      "Trying example: test_fib_reccurence(n=18)\n",
      "Trying example: test_fib_reccurence(n=25)\n",
      "Trying example: test_fib_reccurence(n=42)\n",
      "Trying example: test_fib_reccurence(n=31)\n",
      "Trying example: test_fib_reccurence(n=28)\n",
      "Trying example: test_fib_reccurence(n=53)\n",
      "Trying example: test_fib_reccurence(n=59)\n",
      "Trying example: test_fib_reccurence(n=32)\n",
      "Trying example: test_fib_reccurence(n=16)\n",
      "Trying example: test_fib_reccurence(n=29)\n",
      "Trying example: test_fib_reccurence(n=8)\n",
      "Trying example: test_fib_reccurence(n=65)\n",
      "Trying example: test_fib_reccurence(n=52)\n",
      "Successfully shrunk example 9 times\n",
      "Falsifying example: test_fib_reccurence(n=71)\n"
     ]
    },
    {
     "ename": "AssertionError",
     "evalue": "",
     "output_type": "error",
     "traceback": [
      "\u001b[1;31m---------------------------------------------------------------------------\u001b[0m",
      "\u001b[1;31mAssertionError\u001b[0m                            Traceback (most recent call last)",
      "\u001b[1;32m<ipython-input-6-63b1d755da88>\u001b[0m in \u001b[0;36m<module>\u001b[1;34m()\u001b[0m\n\u001b[0;32m      4\u001b[0m     \u001b[1;32massert\u001b[0m\u001b[1;33m(\u001b[0m\u001b[0mfib\u001b[0m\u001b[1;33m(\u001b[0m\u001b[0mn\u001b[0m\u001b[1;33m)\u001b[0m \u001b[1;33m==\u001b[0m \u001b[0mfib\u001b[0m\u001b[1;33m(\u001b[0m\u001b[0mn\u001b[0m\u001b[1;33m-\u001b[0m\u001b[1;36m1\u001b[0m\u001b[1;33m)\u001b[0m \u001b[1;33m+\u001b[0m \u001b[0mfib\u001b[0m\u001b[1;33m(\u001b[0m\u001b[0mn\u001b[0m\u001b[1;33m-\u001b[0m\u001b[1;36m2\u001b[0m\u001b[1;33m)\u001b[0m\u001b[1;33m)\u001b[0m\u001b[1;33m\u001b[0m\u001b[0m\n\u001b[0;32m      5\u001b[0m \u001b[1;33m\u001b[0m\u001b[0m\n\u001b[1;32m----> 6\u001b[1;33m \u001b[0mtest_fib_reccurence\u001b[0m\u001b[1;33m(\u001b[0m\u001b[1;33m)\u001b[0m\u001b[1;33m\u001b[0m\u001b[0m\n\u001b[0m",
      "\u001b[1;32m/home/DataScience/ep15/medbot/.hypothesis/eval_source/hypothesis_temporary_module_819ec35a5e489e38373e5b8caa094881c67134f7.py\u001b[0m in \u001b[0;36mtest_fib_reccurence\u001b[1;34m(n)\u001b[0m\n\u001b[0;32m      3\u001b[0m \u001b[1;32mdef\u001b[0m \u001b[0maccept\u001b[0m\u001b[1;33m(\u001b[0m\u001b[0mf\u001b[0m\u001b[1;33m)\u001b[0m\u001b[1;33m:\u001b[0m\u001b[1;33m\u001b[0m\u001b[0m\n\u001b[0;32m      4\u001b[0m     \u001b[1;32mdef\u001b[0m \u001b[0mtest_fib_reccurence\u001b[0m\u001b[1;33m(\u001b[0m\u001b[0mn\u001b[0m\u001b[1;33m=\u001b[0m\u001b[0mnot_set\u001b[0m\u001b[1;33m)\u001b[0m\u001b[1;33m:\u001b[0m\u001b[1;33m\u001b[0m\u001b[0m\n\u001b[1;32m----> 5\u001b[1;33m         \u001b[1;32mreturn\u001b[0m \u001b[0mf\u001b[0m\u001b[1;33m(\u001b[0m\u001b[0mn\u001b[0m\u001b[1;33m=\u001b[0m\u001b[0mn\u001b[0m\u001b[1;33m)\u001b[0m\u001b[1;33m\u001b[0m\u001b[0m\n\u001b[0m\u001b[0;32m      6\u001b[0m     \u001b[1;32mreturn\u001b[0m \u001b[0mtest_fib_reccurence\u001b[0m\u001b[1;33m\u001b[0m\u001b[0m\n",
      "\u001b[1;32m/home/DataScience/virtualenv/local/lib/python2.7/site-packages/hypothesis/core.pyc\u001b[0m in \u001b[0;36mwrapped_test\u001b[1;34m(*arguments, **kwargs)\u001b[0m\n\u001b[0;32m    521\u001b[0m                 test_runner(reify_and_execute(\n\u001b[0;32m    522\u001b[0m                     \u001b[0msearch_strategy\u001b[0m\u001b[1;33m,\u001b[0m \u001b[0mfalsifying_template\u001b[0m\u001b[1;33m,\u001b[0m \u001b[0mtest\u001b[0m\u001b[1;33m,\u001b[0m\u001b[1;33m\u001b[0m\u001b[0m\n\u001b[1;32m--> 523\u001b[1;33m                     \u001b[0mprint_example\u001b[0m\u001b[1;33m=\u001b[0m\u001b[0mTrue\u001b[0m\u001b[1;33m\u001b[0m\u001b[0m\n\u001b[0m\u001b[0;32m    524\u001b[0m                 ))\n\u001b[0;32m    525\u001b[0m \u001b[1;33m\u001b[0m\u001b[0m\n",
      "\u001b[1;32m/home/DataScience/virtualenv/local/lib/python2.7/site-packages/hypothesis/executors/executors.pyc\u001b[0m in \u001b[0;36mdefault_executor\u001b[1;34m(function)\u001b[0m\n\u001b[0;32m     24\u001b[0m \u001b[1;33m\u001b[0m\u001b[0m\n\u001b[0;32m     25\u001b[0m \u001b[1;32mdef\u001b[0m \u001b[0mdefault_executor\u001b[0m\u001b[1;33m(\u001b[0m\u001b[0mfunction\u001b[0m\u001b[1;33m)\u001b[0m\u001b[1;33m:\u001b[0m\u001b[1;33m\u001b[0m\u001b[0m\n\u001b[1;32m---> 26\u001b[1;33m     \u001b[1;32mreturn\u001b[0m \u001b[0mfunction\u001b[0m\u001b[1;33m(\u001b[0m\u001b[1;33m)\u001b[0m\u001b[1;33m\u001b[0m\u001b[0m\n\u001b[0m\u001b[0;32m     27\u001b[0m \u001b[1;33m\u001b[0m\u001b[0m\n\u001b[0;32m     28\u001b[0m \u001b[1;33m\u001b[0m\u001b[0m\n",
      "\u001b[1;32m/home/DataScience/virtualenv/local/lib/python2.7/site-packages/hypothesis/core.pyc\u001b[0m in \u001b[0;36mrun\u001b[1;34m()\u001b[0m\n\u001b[0;32m    338\u001b[0m                 )\n\u001b[0;32m    339\u001b[0m             )\n\u001b[1;32m--> 340\u001b[1;33m         \u001b[1;32mreturn\u001b[0m \u001b[0mtest\u001b[0m\u001b[1;33m(\u001b[0m\u001b[1;33m*\u001b[0m\u001b[0margs\u001b[0m\u001b[1;33m,\u001b[0m \u001b[1;33m**\u001b[0m\u001b[0mkwargs\u001b[0m\u001b[1;33m)\u001b[0m\u001b[1;33m\u001b[0m\u001b[0m\n\u001b[0m\u001b[0;32m    341\u001b[0m     \u001b[1;32mreturn\u001b[0m \u001b[0mrun\u001b[0m\u001b[1;33m\u001b[0m\u001b[0m\n\u001b[0;32m    342\u001b[0m \u001b[1;33m\u001b[0m\u001b[0m\n",
      "\u001b[1;32m<ipython-input-6-63b1d755da88>\u001b[0m in \u001b[0;36mtest_fib_reccurence\u001b[1;34m(n)\u001b[0m\n\u001b[0;32m      2\u001b[0m        settings=Settings(verbosity=Verbosity.verbose))\n\u001b[0;32m      3\u001b[0m \u001b[1;32mdef\u001b[0m \u001b[0mtest_fib_reccurence\u001b[0m\u001b[1;33m(\u001b[0m\u001b[0mn\u001b[0m\u001b[1;33m)\u001b[0m\u001b[1;33m:\u001b[0m\u001b[1;33m\u001b[0m\u001b[0m\n\u001b[1;32m----> 4\u001b[1;33m     \u001b[1;32massert\u001b[0m\u001b[1;33m(\u001b[0m\u001b[0mfib\u001b[0m\u001b[1;33m(\u001b[0m\u001b[0mn\u001b[0m\u001b[1;33m)\u001b[0m \u001b[1;33m==\u001b[0m \u001b[0mfib\u001b[0m\u001b[1;33m(\u001b[0m\u001b[0mn\u001b[0m\u001b[1;33m-\u001b[0m\u001b[1;36m1\u001b[0m\u001b[1;33m)\u001b[0m \u001b[1;33m+\u001b[0m \u001b[0mfib\u001b[0m\u001b[1;33m(\u001b[0m\u001b[0mn\u001b[0m\u001b[1;33m-\u001b[0m\u001b[1;36m2\u001b[0m\u001b[1;33m)\u001b[0m\u001b[1;33m)\u001b[0m\u001b[1;33m\u001b[0m\u001b[0m\n\u001b[0m\u001b[0;32m      5\u001b[0m \u001b[1;33m\u001b[0m\u001b[0m\n\u001b[0;32m      6\u001b[0m \u001b[0mtest_fib_reccurence\u001b[0m\u001b[1;33m(\u001b[0m\u001b[1;33m)\u001b[0m\u001b[1;33m\u001b[0m\u001b[0m\n",
      "\u001b[1;31mAssertionError\u001b[0m: "
     ]
    }
   ],
   "source": [
    "@given(integers(min_value=3, max_value=1000),\n",
    "       settings=Settings(verbosity=Verbosity.verbose))\n",
    "def test_fib_reccurence(n):\n",
    "    assert(fib(n) == fib(n-1) + fib(n-2))\n",
    "    \n",
    "test_fib_reccurence()"
   ]
  }
 ],
 "metadata": {
  "celltoolbar": "Slideshow",
  "kernelspec": {
   "display_name": "Python 2",
   "language": "python",
   "name": "python2"
  },
  "language_info": {
   "codemirror_mode": {
    "name": "ipython",
    "version": 2
   },
   "file_extension": ".py",
   "mimetype": "text/x-python",
   "name": "python",
   "nbconvert_exporter": "python",
   "pygments_lexer": "ipython2",
   "version": "2.7.3"
  }
 },
 "nbformat": 4,
 "nbformat_minor": 0
}
