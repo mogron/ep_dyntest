{
 "cells": [
  {
   "cell_type": "markdown",
   "metadata": {
    "slideshow": {
     "slide_type": "slide"
    }
   },
   "source": [
    "# What's the fuzz all about?\n",
    "## Randomized data generation for robust testing\n",
    "\n",
    "* Moritz Gronbach, Blue Yonder\n",
    "* EuroPython 2015, Bilbao, Spain"
   ]
  },
  {
   "cell_type": "markdown",
   "metadata": {
    "slideshow": {
     "slide_type": "slide"
    }
   },
   "source": [
    "# About me and why I want to talk about this"
   ]
  },
  {
   "cell_type": "markdown",
   "metadata": {
    "slideshow": {
     "slide_type": "subslide"
    }
   },
   "source": [
    "# Predictive Analytics\n",
    "<img src=\"gfx/fortune-teller.jpg\" width=300, height=auto align='center'>\n",
    "(picture CC by Nancy Nance)"
   ]
  },
  {
   "cell_type": "markdown",
   "metadata": {
    "slideshow": {
     "slide_type": "subslide"
    }
   },
   "source": [
    "# Predictive Analytics"
   ]
  },
  {
   "cell_type": "code",
   "execution_count": null,
   "metadata": {
    "collapsed": true,
    "slideshow": {
     "slide_type": "fragment"
    }
   },
   "outputs": [],
   "source": [
    "import secret_algorithms\n",
    "\n",
    "def create_pipeline():\n",
    "    pipeline = []\n",
    "    pipeline.append(TimeSeriesProcessor())\n",
    "    pipeline.append(WeatherData())\n",
    "    pipeline.append(secret_algorithms.SuperModel())\n",
    "    return Pipeline(pipeline)"
   ]
  },
  {
   "cell_type": "markdown",
   "metadata": {
    "slideshow": {
     "slide_type": "subslide"
    }
   },
   "source": [
    "# Big Data\n",
    "<img src=\"gfx/cube.png\" align='center'>"
   ]
  },
  {
   "cell_type": "markdown",
   "metadata": {
    "slideshow": {
     "slide_type": "subslide"
    }
   },
   "source": [
    "# Big Complex Data\n",
    "<img src=\"gfx/contraption.jpg\" width=600 height=auto align='center'>"
   ]
  },
  {
   "cell_type": "markdown",
   "metadata": {
    "slideshow": {
     "slide_type": "subslide"
    }
   },
   "source": [
    "# If things go wrong in our code...\n",
    "<img src=\"gfx/empty.jpg\" width=600 height=auto align='center'>"
   ]
  },
  {
   "cell_type": "markdown",
   "metadata": {
    "slideshow": {
     "slide_type": "subslide"
    }
   },
   "source": [
    "## Actually the reality is closer to this\n",
    "<img src=\"gfx/redlight.jpg\" width=400 height=auto align='center'>"
   ]
  },
  {
   "cell_type": "markdown",
   "metadata": {
    "slideshow": {
     "slide_type": "subslide"
    }
   },
   "source": [
    "# For general happiness...\n",
    "* need to check as many edge cases as possible\n",
    "    * before going into production\n",
    "    * even the cases we don't think about!\n",
    "## Dynamic unit testing can help!\n",
    "<img src=\"gfx/happy.jpg\" width=300 height=auto align='center'>"
   ]
  },
  {
   "cell_type": "markdown",
   "metadata": {
    "collapsed": true,
    "slideshow": {
     "slide_type": "slide"
    }
   },
   "source": [
    "# What is dynamic unit testing?"
   ]
  },
  {
   "cell_type": "markdown",
   "metadata": {
    "slideshow": {
     "slide_type": "subslide"
    }
   },
   "source": [
    "## Property-based testing + Fuzzing"
   ]
  },
  {
   "cell_type": "markdown",
   "metadata": {
    "slideshow": {
     "slide_type": "fragment"
    }
   },
   "source": [
    "* Test cases are generated automatically\n",
    "    * Fuzzing\n",
    "    * Parameter Templates"
   ]
  },
  {
   "cell_type": "markdown",
   "metadata": {
    "slideshow": {
     "slide_type": "fragment"
    }
   },
   "source": [
    "* Function behaviour is checked for\n",
    "    * crashes\n",
    "    * timeouts\n",
    "    * universal properties"
   ]
  },
  {
   "cell_type": "markdown",
   "metadata": {
    "slideshow": {
     "slide_type": "subslide"
    }
   },
   "source": [
    "# Static Testing\n",
    "* test cases provided by the user\n",
    "* function behaviour precisely defined by the user"
   ]
  },
  {
   "cell_type": "markdown",
   "metadata": {
    "slideshow": {
     "slide_type": "slide"
    }
   },
   "source": [
    "# Dynamic and Static"
   ]
  },
  {
   "cell_type": "markdown",
   "metadata": {
    "slideshow": {
     "slide_type": "fragment"
    }
   },
   "source": [
    "## Attributes of tests"
   ]
  },
  {
   "cell_type": "markdown",
   "metadata": {
    "slideshow": {
     "slide_type": "fragment"
    }
   },
   "source": [
    "* Precision\n",
    "    * How closely is the expected behaviour defined?"
   ]
  },
  {
   "cell_type": "markdown",
   "metadata": {
    "slideshow": {
     "slide_type": "fragment"
    }
   },
   "source": [
    "* Case Coverage\n",
    "    * What proportion of the input space is covered?"
   ]
  },
  {
   "cell_type": "markdown",
   "metadata": {
    "slideshow": {
     "slide_type": "subslide"
    }
   },
   "source": [
    "# Does case coverage matter?"
   ]
  },
  {
   "cell_type": "markdown",
   "metadata": {
    "slideshow": {
     "slide_type": "fragment"
    }
   },
   "source": [
    "## Does it really matter if we check 5 out of 2^64 cases, or 5000 out of 2^64 cases?"
   ]
  },
  {
   "cell_type": "markdown",
   "metadata": {
    "slideshow": {
     "slide_type": "fragment"
    }
   },
   "source": [
    "## Often, yes!"
   ]
  },
  {
   "cell_type": "markdown",
   "metadata": {
    "slideshow": {
     "slide_type": "subslide"
    }
   },
   "source": [
    "* Let's say there is a numerical instability in your algorithm\n",
    "* Only one percent of all inputs are affected\n",
    "* Probability to detect this instability using five cases\n",
    "    * 1 - 0.99^5, about 0.05\n"
   ]
  },
  {
   "cell_type": "markdown",
   "metadata": {
    "slideshow": {
     "slide_type": "fragment"
    }
   },
   "source": [
    "* Probability to detect this instability using 5000 cases\n",
    "    * 1 - 0.99^5000, nearly 1"
   ]
  },
  {
   "cell_type": "markdown",
   "metadata": {
    "slideshow": {
     "slide_type": "subslide"
    }
   },
   "source": [
    "## Dynamic tests help you find case classes you didn't think about"
   ]
  },
  {
   "cell_type": "markdown",
   "metadata": {
    "slideshow": {
     "slide_type": "subslide"
    }
   },
   "source": [
    "# Static and Dynamic\n",
    "\n",
    "* Static\n",
    "    * high precision, low case coverage\\*\n",
    "* Dynamic\n",
    "    * low precision, higher case coverage\\*\n",
    "    \n",
    "\\* usually approximately true"
   ]
  },
  {
   "cell_type": "markdown",
   "metadata": {
    "slideshow": {
     "slide_type": "subslide"
    }
   },
   "source": [
    "* Static and Dynamic testing complement each other\n",
    "* Uncertainty principle of unit testing: can't have both high precision and high case coverage"
   ]
  },
  {
   "cell_type": "markdown",
   "metadata": {
    "slideshow": {
     "slide_type": "slide"
    }
   },
   "source": [
    "# Dynamic Testing in Python\n",
    "\n",
    "* We use hypothesis\n",
    "    * QuickCheck-style testing for Python\n",
    "    * stable, but in ongoing development\n",
    "    * a lot of innovative features"
   ]
  },
  {
   "cell_type": "markdown",
   "metadata": {
    "slideshow": {
     "slide_type": "fragment"
    }
   },
   "source": [
    "## Let's do an example!"
   ]
  },
  {
   "cell_type": "code",
   "execution_count": 2,
   "metadata": {
    "collapsed": false,
    "slideshow": {
     "slide_type": "subslide"
    }
   },
   "outputs": [
    {
     "name": "stdout",
     "output_type": "stream",
     "text": [
      "Defined Fibonacci function!\n"
     ]
    }
   ],
   "source": [
    "from math import sqrt\n",
    "\n",
    "\n",
    "def fib(n):\n",
    "    \"\"\"Computes the n-th Fibonacci number.\n",
    "    fib(0) == fib(1) == 1\n",
    "    fib(n) == fib(n - 1) + fib(n - 2)\n",
    "    1, 1, 2, 3, 5, 8, ...\"\"\"\n",
    "    sqrt_5 = sqrt(5)\n",
    "    p = (1 + sqrt_5) / 2\n",
    "    q = 1/p\n",
    "    return int((p**n + q**n) / sqrt_5 + 0.5)\n",
    "\n",
    "print('Defined Fibonacci function!')"
   ]
  },
  {
   "cell_type": "code",
   "execution_count": 3,
   "metadata": {
    "collapsed": false,
    "slideshow": {
     "slide_type": "subslide"
    }
   },
   "outputs": [
    {
     "name": "stdout",
     "output_type": "stream",
     "text": [
      "Tests passed!\n"
     ]
    }
   ],
   "source": [
    "def test_fib():\n",
    "    assert(fib(1) == 1)\n",
    "    assert(fib(2) == 1)\n",
    "    assert(fib(3) == 2)\n",
    "    assert(fib(6) == 8)\n",
    "    assert(fib(50) == 12586269025)\n",
    "    print(\"Tests passed!\")\n",
    "\n",
    "test_fib()"
   ]
  },
  {
   "cell_type": "code",
   "execution_count": 4,
   "metadata": {
    "collapsed": false,
    "slideshow": {
     "slide_type": "subslide"
    }
   },
   "outputs": [],
   "source": [
    "from hypothesis import given\n",
    "from hypothesis.strategies import integers\n",
    "from hypothesis import Settings, Verbosity\n",
    "\n",
    "\n",
    "# settings to increase chances of a smooth presentation\n",
    "Settings.default.derandomize = True\n",
    "Settings.default.max_iterations = 50\n",
    "Settings.default.timeout = 20\n",
    "Settings.database = None"
   ]
  },
  {
   "cell_type": "code",
   "execution_count": 5,
   "metadata": {
    "collapsed": false,
    "slideshow": {
     "slide_type": "subslide"
    }
   },
   "outputs": [
    {
     "name": "stdout",
     "output_type": "stream",
     "text": [
      "Falsifying example: test_fib_recurrence(n=71)\n"
     ]
    },
    {
     "ename": "AssertionError",
     "evalue": "",
     "output_type": "error",
     "traceback": [
      "\u001b[1;31m---------------------------------------------------------------------------\u001b[0m",
      "\u001b[1;31mAssertionError\u001b[0m                            Traceback (most recent call last)",
      "\u001b[1;32m<ipython-input-5-b0b088d19f2f>\u001b[0m in \u001b[0;36m<module>\u001b[1;34m()\u001b[0m\n\u001b[0;32m      3\u001b[0m     \u001b[1;32massert\u001b[0m\u001b[1;33m(\u001b[0m\u001b[0mfib\u001b[0m\u001b[1;33m(\u001b[0m\u001b[0mn\u001b[0m\u001b[1;33m)\u001b[0m \u001b[1;33m==\u001b[0m \u001b[0mfib\u001b[0m\u001b[1;33m(\u001b[0m\u001b[0mn\u001b[0m \u001b[1;33m-\u001b[0m \u001b[1;36m1\u001b[0m\u001b[1;33m)\u001b[0m \u001b[1;33m+\u001b[0m \u001b[0mfib\u001b[0m\u001b[1;33m(\u001b[0m\u001b[0mn\u001b[0m \u001b[1;33m-\u001b[0m \u001b[1;36m2\u001b[0m\u001b[1;33m)\u001b[0m\u001b[1;33m)\u001b[0m\u001b[1;33m\u001b[0m\u001b[0m\n\u001b[0;32m      4\u001b[0m \u001b[1;33m\u001b[0m\u001b[0m\n\u001b[1;32m----> 5\u001b[1;33m \u001b[0mtest_fib_recurrence\u001b[0m\u001b[1;33m(\u001b[0m\u001b[1;33m)\u001b[0m\u001b[1;33m\u001b[0m\u001b[0m\n\u001b[0m",
      "\u001b[1;32m/home/DataScience/ep15/medbot/.hypothesis/eval_source/hypothesis_temporary_module_ea6bbcced2e373e81f10b114ad0149bfd6a75eed.py\u001b[0m in \u001b[0;36mtest_fib_recurrence\u001b[1;34m(n)\u001b[0m\n\u001b[0;32m      3\u001b[0m \u001b[1;32mdef\u001b[0m \u001b[0maccept\u001b[0m\u001b[1;33m(\u001b[0m\u001b[0mf\u001b[0m\u001b[1;33m)\u001b[0m\u001b[1;33m:\u001b[0m\u001b[1;33m\u001b[0m\u001b[0m\n\u001b[0;32m      4\u001b[0m     \u001b[1;32mdef\u001b[0m \u001b[0mtest_fib_recurrence\u001b[0m\u001b[1;33m(\u001b[0m\u001b[0mn\u001b[0m\u001b[1;33m=\u001b[0m\u001b[0mnot_set\u001b[0m\u001b[1;33m)\u001b[0m\u001b[1;33m:\u001b[0m\u001b[1;33m\u001b[0m\u001b[0m\n\u001b[1;32m----> 5\u001b[1;33m         \u001b[1;32mreturn\u001b[0m \u001b[0mf\u001b[0m\u001b[1;33m(\u001b[0m\u001b[0mn\u001b[0m\u001b[1;33m=\u001b[0m\u001b[0mn\u001b[0m\u001b[1;33m)\u001b[0m\u001b[1;33m\u001b[0m\u001b[0m\n\u001b[0m\u001b[0;32m      6\u001b[0m     \u001b[1;32mreturn\u001b[0m \u001b[0mtest_fib_recurrence\u001b[0m\u001b[1;33m\u001b[0m\u001b[0m\n",
      "\u001b[1;32m/home/DataScience/virtualenv/local/lib/python2.7/site-packages/hypothesis/core.pyc\u001b[0m in \u001b[0;36mwrapped_test\u001b[1;34m(*arguments, **kwargs)\u001b[0m\n\u001b[0;32m    521\u001b[0m                 test_runner(reify_and_execute(\n\u001b[0;32m    522\u001b[0m                     \u001b[0msearch_strategy\u001b[0m\u001b[1;33m,\u001b[0m \u001b[0mfalsifying_template\u001b[0m\u001b[1;33m,\u001b[0m \u001b[0mtest\u001b[0m\u001b[1;33m,\u001b[0m\u001b[1;33m\u001b[0m\u001b[0m\n\u001b[1;32m--> 523\u001b[1;33m                     \u001b[0mprint_example\u001b[0m\u001b[1;33m=\u001b[0m\u001b[0mTrue\u001b[0m\u001b[1;33m\u001b[0m\u001b[0m\n\u001b[0m\u001b[0;32m    524\u001b[0m                 ))\n\u001b[0;32m    525\u001b[0m \u001b[1;33m\u001b[0m\u001b[0m\n",
      "\u001b[1;32m/home/DataScience/virtualenv/local/lib/python2.7/site-packages/hypothesis/executors/executors.pyc\u001b[0m in \u001b[0;36mdefault_executor\u001b[1;34m(function)\u001b[0m\n\u001b[0;32m     24\u001b[0m \u001b[1;33m\u001b[0m\u001b[0m\n\u001b[0;32m     25\u001b[0m \u001b[1;32mdef\u001b[0m \u001b[0mdefault_executor\u001b[0m\u001b[1;33m(\u001b[0m\u001b[0mfunction\u001b[0m\u001b[1;33m)\u001b[0m\u001b[1;33m:\u001b[0m\u001b[1;33m\u001b[0m\u001b[0m\n\u001b[1;32m---> 26\u001b[1;33m     \u001b[1;32mreturn\u001b[0m \u001b[0mfunction\u001b[0m\u001b[1;33m(\u001b[0m\u001b[1;33m)\u001b[0m\u001b[1;33m\u001b[0m\u001b[0m\n\u001b[0m\u001b[0;32m     27\u001b[0m \u001b[1;33m\u001b[0m\u001b[0m\n\u001b[0;32m     28\u001b[0m \u001b[1;33m\u001b[0m\u001b[0m\n",
      "\u001b[1;32m/home/DataScience/virtualenv/local/lib/python2.7/site-packages/hypothesis/core.pyc\u001b[0m in \u001b[0;36mrun\u001b[1;34m()\u001b[0m\n\u001b[0;32m    338\u001b[0m                 )\n\u001b[0;32m    339\u001b[0m             )\n\u001b[1;32m--> 340\u001b[1;33m         \u001b[1;32mreturn\u001b[0m \u001b[0mtest\u001b[0m\u001b[1;33m(\u001b[0m\u001b[1;33m*\u001b[0m\u001b[0margs\u001b[0m\u001b[1;33m,\u001b[0m \u001b[1;33m**\u001b[0m\u001b[0mkwargs\u001b[0m\u001b[1;33m)\u001b[0m\u001b[1;33m\u001b[0m\u001b[0m\n\u001b[0m\u001b[0;32m    341\u001b[0m     \u001b[1;32mreturn\u001b[0m \u001b[0mrun\u001b[0m\u001b[1;33m\u001b[0m\u001b[0m\n\u001b[0;32m    342\u001b[0m \u001b[1;33m\u001b[0m\u001b[0m\n",
      "\u001b[1;32m<ipython-input-5-b0b088d19f2f>\u001b[0m in \u001b[0;36mtest_fib_recurrence\u001b[1;34m(n)\u001b[0m\n\u001b[0;32m      1\u001b[0m \u001b[1;33m@\u001b[0m\u001b[0mgiven\u001b[0m\u001b[1;33m(\u001b[0m\u001b[0mintegers\u001b[0m\u001b[1;33m(\u001b[0m\u001b[0mmin_value\u001b[0m\u001b[1;33m=\u001b[0m\u001b[1;36m3\u001b[0m\u001b[1;33m)\u001b[0m\u001b[1;33m)\u001b[0m\u001b[1;33m\u001b[0m\u001b[0m\n\u001b[0;32m      2\u001b[0m \u001b[1;32mdef\u001b[0m \u001b[0mtest_fib_recurrence\u001b[0m\u001b[1;33m(\u001b[0m\u001b[0mn\u001b[0m\u001b[1;33m)\u001b[0m\u001b[1;33m:\u001b[0m\u001b[1;33m\u001b[0m\u001b[0m\n\u001b[1;32m----> 3\u001b[1;33m     \u001b[1;32massert\u001b[0m\u001b[1;33m(\u001b[0m\u001b[0mfib\u001b[0m\u001b[1;33m(\u001b[0m\u001b[0mn\u001b[0m\u001b[1;33m)\u001b[0m \u001b[1;33m==\u001b[0m \u001b[0mfib\u001b[0m\u001b[1;33m(\u001b[0m\u001b[0mn\u001b[0m \u001b[1;33m-\u001b[0m \u001b[1;36m1\u001b[0m\u001b[1;33m)\u001b[0m \u001b[1;33m+\u001b[0m \u001b[0mfib\u001b[0m\u001b[1;33m(\u001b[0m\u001b[0mn\u001b[0m \u001b[1;33m-\u001b[0m \u001b[1;36m2\u001b[0m\u001b[1;33m)\u001b[0m\u001b[1;33m)\u001b[0m\u001b[1;33m\u001b[0m\u001b[0m\n\u001b[0m\u001b[0;32m      4\u001b[0m \u001b[1;33m\u001b[0m\u001b[0m\n\u001b[0;32m      5\u001b[0m \u001b[0mtest_fib_recurrence\u001b[0m\u001b[1;33m(\u001b[0m\u001b[1;33m)\u001b[0m\u001b[1;33m\u001b[0m\u001b[0m\n",
      "\u001b[1;31mAssertionError\u001b[0m: "
     ]
    }
   ],
   "source": [
    "@given(integers(min_value=3))\n",
    "def test_fib_recurrence(n):\n",
    "    assert(fib(n) == fib(n - 1) + fib(n - 2))\n",
    "    \n",
    "test_fib_recurrence()"
   ]
  },
  {
   "cell_type": "code",
   "execution_count": 6,
   "metadata": {
    "collapsed": false,
    "slideshow": {
     "slide_type": "subslide"
    }
   },
   "outputs": [
    {
     "name": "stdout",
     "output_type": "stream",
     "text": [
      "Trying example: test_fib_recurrence(n=805)\n",
      "Traceback (most recent call last):\n",
      "  File \"/home/DataScience/virtualenv/local/lib/python2.7/site-packages/hypothesis/core.py\", line 494, in is_template_example\n",
      "    always_print=settings.max_shrinks <= 0\n",
      "  File \"/home/DataScience/virtualenv/local/lib/python2.7/site-packages/hypothesis/executors/executors.py\", line 26, in default_executor\n",
      "    return function()\n",
      "  File \"/home/DataScience/virtualenv/local/lib/python2.7/site-packages/hypothesis/core.py\", line 340, in run\n",
      "    return test(*args, **kwargs)\n",
      "  File \"<ipython-input-6-eeb8c5a7a39b>\", line 4, in test_fib_recurrence\n",
      "    assert(fib(n) == fib(n - 1) + fib(n - 2))\n",
      "AssertionError\n",
      "\n",
      "Trying example: test_fib_recurrence(n=3)\n",
      "Trying example: test_fib_recurrence(n=4)\n",
      "Trying example: test_fib_recurrence(n=5)\n",
      "Trying example: test_fib_recurrence(n=7)\n",
      "Trying example: test_fib_recurrence(n=11)\n",
      "Trying example: test_fib_recurrence(n=19)\n",
      "Trying example: test_fib_recurrence(n=35)\n",
      "Trying example: test_fib_recurrence(n=67)\n",
      "Trying example: test_fib_recurrence(n=131)\n",
      "Traceback (most recent call last):\n",
      "  File \"/home/DataScience/virtualenv/local/lib/python2.7/site-packages/hypothesis/core.py\", line 494, in is_template_example\n",
      "    always_print=settings.max_shrinks <= 0\n",
      "  File \"/home/DataScience/virtualenv/local/lib/python2.7/site-packages/hypothesis/executors/executors.py\", line 26, in default_executor\n",
      "    return function()\n",
      "  File \"/home/DataScience/virtualenv/local/lib/python2.7/site-packages/hypothesis/core.py\", line 340, in run\n",
      "    return test(*args, **kwargs)\n",
      "  File \"<ipython-input-6-eeb8c5a7a39b>\", line 4, in test_fib_recurrence\n",
      "    assert(fib(n) == fib(n - 1) + fib(n - 2))\n",
      "AssertionError\n",
      "\n",
      "Trying example: test_fib_recurrence(n=68)\n",
      "Trying example: test_fib_recurrence(n=69)\n",
      "Trying example: test_fib_recurrence(n=99)\n",
      "Traceback (most recent call last):\n",
      "  File \"/home/DataScience/virtualenv/local/lib/python2.7/site-packages/hypothesis/core.py\", line 494, in is_template_example\n",
      "    always_print=settings.max_shrinks <= 0\n",
      "  File \"/home/DataScience/virtualenv/local/lib/python2.7/site-packages/hypothesis/executors/executors.py\", line 26, in default_executor\n",
      "    return function()\n",
      "  File \"/home/DataScience/virtualenv/local/lib/python2.7/site-packages/hypothesis/core.py\", line 340, in run\n",
      "    return test(*args, **kwargs)\n",
      "  File \"<ipython-input-6-eeb8c5a7a39b>\", line 4, in test_fib_recurrence\n",
      "    assert(fib(n) == fib(n - 1) + fib(n - 2))\n",
      "AssertionError\n",
      "\n",
      "Trying example: test_fib_recurrence(n=70)\n",
      "Trying example: test_fib_recurrence(n=83)\n",
      "Traceback (most recent call last):\n",
      "  File \"/home/DataScience/virtualenv/local/lib/python2.7/site-packages/hypothesis/core.py\", line 494, in is_template_example\n",
      "    always_print=settings.max_shrinks <= 0\n",
      "  File \"/home/DataScience/virtualenv/local/lib/python2.7/site-packages/hypothesis/executors/executors.py\", line 26, in default_executor\n",
      "    return function()\n",
      "  File \"/home/DataScience/virtualenv/local/lib/python2.7/site-packages/hypothesis/core.py\", line 340, in run\n",
      "    return test(*args, **kwargs)\n",
      "  File \"<ipython-input-6-eeb8c5a7a39b>\", line 4, in test_fib_recurrence\n",
      "    assert(fib(n) == fib(n - 1) + fib(n - 2))\n",
      "AssertionError\n",
      "\n",
      "Trying example: test_fib_recurrence(n=75)\n",
      "Trying example: test_fib_recurrence(n=42)\n",
      "Trying example: test_fib_recurrence(n=59)\n",
      "Trying example: test_fib_recurrence(n=71)\n",
      "Traceback (most recent call last):\n",
      "  File \"/home/DataScience/virtualenv/local/lib/python2.7/site-packages/hypothesis/core.py\", line 494, in is_template_example\n",
      "    always_print=settings.max_shrinks <= 0\n",
      "  File \"/home/DataScience/virtualenv/local/lib/python2.7/site-packages/hypothesis/executors/executors.py\", line 26, in default_executor\n",
      "    return function()\n",
      "  File \"/home/DataScience/virtualenv/local/lib/python2.7/site-packages/hypothesis/core.py\", line 340, in run\n",
      "    return test(*args, **kwargs)\n",
      "  File \"<ipython-input-6-eeb8c5a7a39b>\", line 4, in test_fib_recurrence\n",
      "    assert(fib(n) == fib(n - 1) + fib(n - 2))\n",
      "AssertionError\n",
      "\n",
      "Trying example: test_fib_recurrence(n=50)\n",
      "Trying example: test_fib_recurrence(n=53)\n",
      "Trying example: test_fib_recurrence(n=55)\n",
      "Trying example: test_fib_recurrence(n=62)\n",
      "Trying example: test_fib_recurrence(n=65)\n",
      "Trying example: test_fib_recurrence(n=66)\n",
      "Successfully shrunk example 4 times\n",
      "Falsifying example: test_fib_recurrence(n=71)\n"
     ]
    },
    {
     "ename": "AssertionError",
     "evalue": "",
     "output_type": "error",
     "traceback": [
      "\u001b[1;31m---------------------------------------------------------------------------\u001b[0m",
      "\u001b[1;31mAssertionError\u001b[0m                            Traceback (most recent call last)",
      "\u001b[1;32m<ipython-input-6-eeb8c5a7a39b>\u001b[0m in \u001b[0;36m<module>\u001b[1;34m()\u001b[0m\n\u001b[0;32m      4\u001b[0m     \u001b[1;32massert\u001b[0m\u001b[1;33m(\u001b[0m\u001b[0mfib\u001b[0m\u001b[1;33m(\u001b[0m\u001b[0mn\u001b[0m\u001b[1;33m)\u001b[0m \u001b[1;33m==\u001b[0m \u001b[0mfib\u001b[0m\u001b[1;33m(\u001b[0m\u001b[0mn\u001b[0m \u001b[1;33m-\u001b[0m \u001b[1;36m1\u001b[0m\u001b[1;33m)\u001b[0m \u001b[1;33m+\u001b[0m \u001b[0mfib\u001b[0m\u001b[1;33m(\u001b[0m\u001b[0mn\u001b[0m \u001b[1;33m-\u001b[0m \u001b[1;36m2\u001b[0m\u001b[1;33m)\u001b[0m\u001b[1;33m)\u001b[0m\u001b[1;33m\u001b[0m\u001b[0m\n\u001b[0;32m      5\u001b[0m \u001b[1;33m\u001b[0m\u001b[0m\n\u001b[1;32m----> 6\u001b[1;33m \u001b[0mtest_fib_recurrence\u001b[0m\u001b[1;33m(\u001b[0m\u001b[1;33m)\u001b[0m\u001b[1;33m\u001b[0m\u001b[0m\n\u001b[0m",
      "\u001b[1;32m/home/DataScience/ep15/medbot/.hypothesis/eval_source/hypothesis_temporary_module_ea6bbcced2e373e81f10b114ad0149bfd6a75eed.py\u001b[0m in \u001b[0;36mtest_fib_recurrence\u001b[1;34m(n)\u001b[0m\n\u001b[0;32m      3\u001b[0m \u001b[1;32mdef\u001b[0m \u001b[0maccept\u001b[0m\u001b[1;33m(\u001b[0m\u001b[0mf\u001b[0m\u001b[1;33m)\u001b[0m\u001b[1;33m:\u001b[0m\u001b[1;33m\u001b[0m\u001b[0m\n\u001b[0;32m      4\u001b[0m     \u001b[1;32mdef\u001b[0m \u001b[0mtest_fib_recurrence\u001b[0m\u001b[1;33m(\u001b[0m\u001b[0mn\u001b[0m\u001b[1;33m=\u001b[0m\u001b[0mnot_set\u001b[0m\u001b[1;33m)\u001b[0m\u001b[1;33m:\u001b[0m\u001b[1;33m\u001b[0m\u001b[0m\n\u001b[1;32m----> 5\u001b[1;33m         \u001b[1;32mreturn\u001b[0m \u001b[0mf\u001b[0m\u001b[1;33m(\u001b[0m\u001b[0mn\u001b[0m\u001b[1;33m=\u001b[0m\u001b[0mn\u001b[0m\u001b[1;33m)\u001b[0m\u001b[1;33m\u001b[0m\u001b[0m\n\u001b[0m\u001b[0;32m      6\u001b[0m     \u001b[1;32mreturn\u001b[0m \u001b[0mtest_fib_recurrence\u001b[0m\u001b[1;33m\u001b[0m\u001b[0m\n",
      "\u001b[1;32m/home/DataScience/virtualenv/local/lib/python2.7/site-packages/hypothesis/core.pyc\u001b[0m in \u001b[0;36mwrapped_test\u001b[1;34m(*arguments, **kwargs)\u001b[0m\n\u001b[0;32m    521\u001b[0m                 test_runner(reify_and_execute(\n\u001b[0;32m    522\u001b[0m                     \u001b[0msearch_strategy\u001b[0m\u001b[1;33m,\u001b[0m \u001b[0mfalsifying_template\u001b[0m\u001b[1;33m,\u001b[0m \u001b[0mtest\u001b[0m\u001b[1;33m,\u001b[0m\u001b[1;33m\u001b[0m\u001b[0m\n\u001b[1;32m--> 523\u001b[1;33m                     \u001b[0mprint_example\u001b[0m\u001b[1;33m=\u001b[0m\u001b[0mTrue\u001b[0m\u001b[1;33m\u001b[0m\u001b[0m\n\u001b[0m\u001b[0;32m    524\u001b[0m                 ))\n\u001b[0;32m    525\u001b[0m \u001b[1;33m\u001b[0m\u001b[0m\n",
      "\u001b[1;32m/home/DataScience/virtualenv/local/lib/python2.7/site-packages/hypothesis/executors/executors.pyc\u001b[0m in \u001b[0;36mdefault_executor\u001b[1;34m(function)\u001b[0m\n\u001b[0;32m     24\u001b[0m \u001b[1;33m\u001b[0m\u001b[0m\n\u001b[0;32m     25\u001b[0m \u001b[1;32mdef\u001b[0m \u001b[0mdefault_executor\u001b[0m\u001b[1;33m(\u001b[0m\u001b[0mfunction\u001b[0m\u001b[1;33m)\u001b[0m\u001b[1;33m:\u001b[0m\u001b[1;33m\u001b[0m\u001b[0m\n\u001b[1;32m---> 26\u001b[1;33m     \u001b[1;32mreturn\u001b[0m \u001b[0mfunction\u001b[0m\u001b[1;33m(\u001b[0m\u001b[1;33m)\u001b[0m\u001b[1;33m\u001b[0m\u001b[0m\n\u001b[0m\u001b[0;32m     27\u001b[0m \u001b[1;33m\u001b[0m\u001b[0m\n\u001b[0;32m     28\u001b[0m \u001b[1;33m\u001b[0m\u001b[0m\n",
      "\u001b[1;32m/home/DataScience/virtualenv/local/lib/python2.7/site-packages/hypothesis/core.pyc\u001b[0m in \u001b[0;36mrun\u001b[1;34m()\u001b[0m\n\u001b[0;32m    338\u001b[0m                 )\n\u001b[0;32m    339\u001b[0m             )\n\u001b[1;32m--> 340\u001b[1;33m         \u001b[1;32mreturn\u001b[0m \u001b[0mtest\u001b[0m\u001b[1;33m(\u001b[0m\u001b[1;33m*\u001b[0m\u001b[0margs\u001b[0m\u001b[1;33m,\u001b[0m \u001b[1;33m**\u001b[0m\u001b[0mkwargs\u001b[0m\u001b[1;33m)\u001b[0m\u001b[1;33m\u001b[0m\u001b[0m\n\u001b[0m\u001b[0;32m    341\u001b[0m     \u001b[1;32mreturn\u001b[0m \u001b[0mrun\u001b[0m\u001b[1;33m\u001b[0m\u001b[0m\n\u001b[0;32m    342\u001b[0m \u001b[1;33m\u001b[0m\u001b[0m\n",
      "\u001b[1;32m<ipython-input-6-eeb8c5a7a39b>\u001b[0m in \u001b[0;36mtest_fib_recurrence\u001b[1;34m(n)\u001b[0m\n\u001b[0;32m      2\u001b[0m       settings=Settings(verbosity=Verbosity.verbose))\n\u001b[0;32m      3\u001b[0m \u001b[1;32mdef\u001b[0m \u001b[0mtest_fib_recurrence\u001b[0m\u001b[1;33m(\u001b[0m\u001b[0mn\u001b[0m\u001b[1;33m)\u001b[0m\u001b[1;33m:\u001b[0m\u001b[1;33m\u001b[0m\u001b[0m\n\u001b[1;32m----> 4\u001b[1;33m     \u001b[1;32massert\u001b[0m\u001b[1;33m(\u001b[0m\u001b[0mfib\u001b[0m\u001b[1;33m(\u001b[0m\u001b[0mn\u001b[0m\u001b[1;33m)\u001b[0m \u001b[1;33m==\u001b[0m \u001b[0mfib\u001b[0m\u001b[1;33m(\u001b[0m\u001b[0mn\u001b[0m \u001b[1;33m-\u001b[0m \u001b[1;36m1\u001b[0m\u001b[1;33m)\u001b[0m \u001b[1;33m+\u001b[0m \u001b[0mfib\u001b[0m\u001b[1;33m(\u001b[0m\u001b[0mn\u001b[0m \u001b[1;33m-\u001b[0m \u001b[1;36m2\u001b[0m\u001b[1;33m)\u001b[0m\u001b[1;33m)\u001b[0m\u001b[1;33m\u001b[0m\u001b[0m\n\u001b[0m\u001b[0;32m      5\u001b[0m \u001b[1;33m\u001b[0m\u001b[0m\n\u001b[0;32m      6\u001b[0m \u001b[0mtest_fib_recurrence\u001b[0m\u001b[1;33m(\u001b[0m\u001b[1;33m)\u001b[0m\u001b[1;33m\u001b[0m\u001b[0m\n",
      "\u001b[1;31mAssertionError\u001b[0m: "
     ]
    }
   ],
   "source": [
    "@given(integers(min_value=3),\n",
    "      settings=Settings(verbosity=Verbosity.verbose))\n",
    "def test_fib_recurrence(n):\n",
    "    assert(fib(n) == fib(n - 1) + fib(n - 2))\n",
    "    \n",
    "test_fib_recurrence()"
   ]
  },
  {
   "cell_type": "markdown",
   "metadata": {
    "slideshow": {
     "slide_type": "subslide"
    }
   },
   "source": [
    "# What happened?"
   ]
  },
  {
   "cell_type": "markdown",
   "metadata": {
    "slideshow": {
     "slide_type": "fragment"
    }
   },
   "source": [
    "* Sampling\n",
    "    * hypothesis samples integers until it finds a falsifying example\n"
   ]
  },
  {
   "cell_type": "markdown",
   "metadata": {
    "slideshow": {
     "slide_type": "fragment"
    }
   },
   "source": [
    "* Shrinking\n",
    "    * hypothesis tries to simplify the falsifying example\n",
    "    * here: simplest means smallest integer"
   ]
  },
  {
   "cell_type": "markdown",
   "metadata": {
    "slideshow": {
     "slide_type": "slide"
    }
   },
   "source": [
    "# Example II: Departure from Math-Wonderland"
   ]
  },
  {
   "cell_type": "code",
   "execution_count": 10,
   "metadata": {
    "collapsed": false,
    "slideshow": {
     "slide_type": "fragment"
    }
   },
   "outputs": [
    {
     "name": "stdout",
     "output_type": "stream",
     "text": [
      "Tests passed!\n"
     ]
    }
   ],
   "source": [
    "from urllib import quote\n",
    "\n",
    "def test_quote():\n",
    "    assert(quote('') == '')\n",
    "    s = 'abc def'\n",
    "    expected = 'abc%20def'\n",
    "    assert(quote(s) == expected)\n",
    "    print(\"Tests passed!\")\n",
    "    \n",
    "test_quote()"
   ]
  },
  {
   "cell_type": "code",
   "execution_count": 11,
   "metadata": {
    "collapsed": false,
    "slideshow": {
     "slide_type": "subslide"
    }
   },
   "outputs": [
    {
     "name": "stdout",
     "output_type": "stream",
     "text": [
      "Falsifying example: test_quote_unquote(s=u'\\x80')\n"
     ]
    },
    {
     "ename": "KeyError",
     "evalue": "u'\\x80'",
     "output_type": "error",
     "traceback": [
      "\u001b[1;31m---------------------------------------------------------------------------\u001b[0m",
      "\u001b[1;31mKeyError\u001b[0m                                  Traceback (most recent call last)",
      "\u001b[1;32m<ipython-input-11-f1f9c7ff0856>\u001b[0m in \u001b[0;36m<module>\u001b[1;34m()\u001b[0m\n\u001b[0;32m      6\u001b[0m     \u001b[1;32massert\u001b[0m \u001b[0munquote\u001b[0m\u001b[1;33m(\u001b[0m\u001b[0mquote\u001b[0m\u001b[1;33m(\u001b[0m\u001b[0ms\u001b[0m\u001b[1;33m)\u001b[0m\u001b[1;33m)\u001b[0m \u001b[1;33m==\u001b[0m \u001b[0ms\u001b[0m\u001b[1;33m\u001b[0m\u001b[0m\n\u001b[0;32m      7\u001b[0m \u001b[1;33m\u001b[0m\u001b[0m\n\u001b[1;32m----> 8\u001b[1;33m \u001b[0mtest_quote_unquote\u001b[0m\u001b[1;33m(\u001b[0m\u001b[1;33m)\u001b[0m\u001b[1;33m\u001b[0m\u001b[0m\n\u001b[0m",
      "\u001b[1;32m/home/DataScience/ep15/medbot/.hypothesis/eval_source/hypothesis_temporary_module_2607385f242d85b52317e4703feaed49e1c72972.py\u001b[0m in \u001b[0;36mtest_quote_unquote\u001b[1;34m(s)\u001b[0m\n\u001b[0;32m      3\u001b[0m \u001b[1;32mdef\u001b[0m \u001b[0maccept\u001b[0m\u001b[1;33m(\u001b[0m\u001b[0mf\u001b[0m\u001b[1;33m)\u001b[0m\u001b[1;33m:\u001b[0m\u001b[1;33m\u001b[0m\u001b[0m\n\u001b[0;32m      4\u001b[0m     \u001b[1;32mdef\u001b[0m \u001b[0mtest_quote_unquote\u001b[0m\u001b[1;33m(\u001b[0m\u001b[0ms\u001b[0m\u001b[1;33m=\u001b[0m\u001b[0mnot_set\u001b[0m\u001b[1;33m)\u001b[0m\u001b[1;33m:\u001b[0m\u001b[1;33m\u001b[0m\u001b[0m\n\u001b[1;32m----> 5\u001b[1;33m         \u001b[1;32mreturn\u001b[0m \u001b[0mf\u001b[0m\u001b[1;33m(\u001b[0m\u001b[0ms\u001b[0m\u001b[1;33m=\u001b[0m\u001b[0ms\u001b[0m\u001b[1;33m)\u001b[0m\u001b[1;33m\u001b[0m\u001b[0m\n\u001b[0m\u001b[0;32m      6\u001b[0m     \u001b[1;32mreturn\u001b[0m \u001b[0mtest_quote_unquote\u001b[0m\u001b[1;33m\u001b[0m\u001b[0m\n",
      "\u001b[1;32m/home/DataScience/virtualenv/local/lib/python2.7/site-packages/hypothesis/core.pyc\u001b[0m in \u001b[0;36mwrapped_test\u001b[1;34m(*arguments, **kwargs)\u001b[0m\n\u001b[0;32m    521\u001b[0m                 test_runner(reify_and_execute(\n\u001b[0;32m    522\u001b[0m                     \u001b[0msearch_strategy\u001b[0m\u001b[1;33m,\u001b[0m \u001b[0mfalsifying_template\u001b[0m\u001b[1;33m,\u001b[0m \u001b[0mtest\u001b[0m\u001b[1;33m,\u001b[0m\u001b[1;33m\u001b[0m\u001b[0m\n\u001b[1;32m--> 523\u001b[1;33m                     \u001b[0mprint_example\u001b[0m\u001b[1;33m=\u001b[0m\u001b[0mTrue\u001b[0m\u001b[1;33m\u001b[0m\u001b[0m\n\u001b[0m\u001b[0;32m    524\u001b[0m                 ))\n\u001b[0;32m    525\u001b[0m \u001b[1;33m\u001b[0m\u001b[0m\n",
      "\u001b[1;32m/home/DataScience/virtualenv/local/lib/python2.7/site-packages/hypothesis/executors/executors.pyc\u001b[0m in \u001b[0;36mdefault_executor\u001b[1;34m(function)\u001b[0m\n\u001b[0;32m     24\u001b[0m \u001b[1;33m\u001b[0m\u001b[0m\n\u001b[0;32m     25\u001b[0m \u001b[1;32mdef\u001b[0m \u001b[0mdefault_executor\u001b[0m\u001b[1;33m(\u001b[0m\u001b[0mfunction\u001b[0m\u001b[1;33m)\u001b[0m\u001b[1;33m:\u001b[0m\u001b[1;33m\u001b[0m\u001b[0m\n\u001b[1;32m---> 26\u001b[1;33m     \u001b[1;32mreturn\u001b[0m \u001b[0mfunction\u001b[0m\u001b[1;33m(\u001b[0m\u001b[1;33m)\u001b[0m\u001b[1;33m\u001b[0m\u001b[0m\n\u001b[0m\u001b[0;32m     27\u001b[0m \u001b[1;33m\u001b[0m\u001b[0m\n\u001b[0;32m     28\u001b[0m \u001b[1;33m\u001b[0m\u001b[0m\n",
      "\u001b[1;32m/home/DataScience/virtualenv/local/lib/python2.7/site-packages/hypothesis/core.pyc\u001b[0m in \u001b[0;36mrun\u001b[1;34m()\u001b[0m\n\u001b[0;32m    338\u001b[0m                 )\n\u001b[0;32m    339\u001b[0m             )\n\u001b[1;32m--> 340\u001b[1;33m         \u001b[1;32mreturn\u001b[0m \u001b[0mtest\u001b[0m\u001b[1;33m(\u001b[0m\u001b[1;33m*\u001b[0m\u001b[0margs\u001b[0m\u001b[1;33m,\u001b[0m \u001b[1;33m**\u001b[0m\u001b[0mkwargs\u001b[0m\u001b[1;33m)\u001b[0m\u001b[1;33m\u001b[0m\u001b[0m\n\u001b[0m\u001b[0;32m    341\u001b[0m     \u001b[1;32mreturn\u001b[0m \u001b[0mrun\u001b[0m\u001b[1;33m\u001b[0m\u001b[0m\n\u001b[0;32m    342\u001b[0m \u001b[1;33m\u001b[0m\u001b[0m\n",
      "\u001b[1;32m<ipython-input-11-f1f9c7ff0856>\u001b[0m in \u001b[0;36mtest_quote_unquote\u001b[1;34m(s)\u001b[0m\n\u001b[0;32m      4\u001b[0m \u001b[1;33m@\u001b[0m\u001b[0mgiven\u001b[0m\u001b[1;33m(\u001b[0m\u001b[0mtext\u001b[0m\u001b[1;33m(\u001b[0m\u001b[1;33m)\u001b[0m\u001b[1;33m)\u001b[0m\u001b[1;33m\u001b[0m\u001b[0m\n\u001b[0;32m      5\u001b[0m \u001b[1;32mdef\u001b[0m \u001b[0mtest_quote_unquote\u001b[0m\u001b[1;33m(\u001b[0m\u001b[0ms\u001b[0m\u001b[1;33m)\u001b[0m\u001b[1;33m:\u001b[0m\u001b[1;33m\u001b[0m\u001b[0m\n\u001b[1;32m----> 6\u001b[1;33m     \u001b[1;32massert\u001b[0m \u001b[0munquote\u001b[0m\u001b[1;33m(\u001b[0m\u001b[0mquote\u001b[0m\u001b[1;33m(\u001b[0m\u001b[0ms\u001b[0m\u001b[1;33m)\u001b[0m\u001b[1;33m)\u001b[0m \u001b[1;33m==\u001b[0m \u001b[0ms\u001b[0m\u001b[1;33m\u001b[0m\u001b[0m\n\u001b[0m\u001b[0;32m      7\u001b[0m \u001b[1;33m\u001b[0m\u001b[0m\n\u001b[0;32m      8\u001b[0m \u001b[0mtest_quote_unquote\u001b[0m\u001b[1;33m(\u001b[0m\u001b[1;33m)\u001b[0m\u001b[1;33m\u001b[0m\u001b[0m\n",
      "\u001b[1;32m/usr/lib/python2.7/urllib.pyc\u001b[0m in \u001b[0;36mquote\u001b[1;34m(s, safe)\u001b[0m\n\u001b[0;32m   1266\u001b[0m     \u001b[1;32mif\u001b[0m \u001b[1;32mnot\u001b[0m \u001b[0ms\u001b[0m\u001b[1;33m.\u001b[0m\u001b[0mrstrip\u001b[0m\u001b[1;33m(\u001b[0m\u001b[0msafe\u001b[0m\u001b[1;33m)\u001b[0m\u001b[1;33m:\u001b[0m\u001b[1;33m\u001b[0m\u001b[0m\n\u001b[0;32m   1267\u001b[0m         \u001b[1;32mreturn\u001b[0m \u001b[0ms\u001b[0m\u001b[1;33m\u001b[0m\u001b[0m\n\u001b[1;32m-> 1268\u001b[1;33m     \u001b[1;32mreturn\u001b[0m \u001b[1;34m''\u001b[0m\u001b[1;33m.\u001b[0m\u001b[0mjoin\u001b[0m\u001b[1;33m(\u001b[0m\u001b[0mmap\u001b[0m\u001b[1;33m(\u001b[0m\u001b[0mquoter\u001b[0m\u001b[1;33m,\u001b[0m \u001b[0ms\u001b[0m\u001b[1;33m)\u001b[0m\u001b[1;33m)\u001b[0m\u001b[1;33m\u001b[0m\u001b[0m\n\u001b[0m\u001b[0;32m   1269\u001b[0m \u001b[1;33m\u001b[0m\u001b[0m\n\u001b[0;32m   1270\u001b[0m \u001b[1;32mdef\u001b[0m \u001b[0mquote_plus\u001b[0m\u001b[1;33m(\u001b[0m\u001b[0ms\u001b[0m\u001b[1;33m,\u001b[0m \u001b[0msafe\u001b[0m\u001b[1;33m=\u001b[0m\u001b[1;34m''\u001b[0m\u001b[1;33m)\u001b[0m\u001b[1;33m:\u001b[0m\u001b[1;33m\u001b[0m\u001b[0m\n",
      "\u001b[1;31mKeyError\u001b[0m: u'\\x80'"
     ]
    }
   ],
   "source": [
    "from urllib import unquote\n",
    "from hypothesis.strategies import text\n",
    "\n",
    "@given(text())\n",
    "def test_quote_unquote(s):\n",
    "    assert unquote(quote(s)) == s\n",
    "    \n",
    "test_quote_unquote()"
   ]
  },
  {
   "cell_type": "code",
   "execution_count": null,
   "metadata": {
    "collapsed": true
   },
   "outputs": [],
   "source": [
    "from urllib import unquote\n",
    "from hypothesis.strategies import text\n",
    "import string\n",
    "\n",
    "@given(text(alphabet=string.printable))\n",
    "def test_quote_unquote(s):\n",
    "    assert unquote(quote(s)) == s\n",
    "    \n",
    "test_quote_unquote()"
   ]
  },
  {
   "cell_type": "markdown",
   "metadata": {
    "slideshow": {
     "slide_type": "subslide"
    }
   },
   "source": [
    "# Departure from Math-Wonderland\n",
    "\n",
    "* Handling impure\\* objects can be challenging in assertions and parameter templates, for example:\n",
    "    * String encodings\n",
    "    * Datetimes\n",
    "    \n",
    "\\* lacking mathematical elegance\n"
   ]
  },
  {
   "cell_type": "markdown",
   "metadata": {
    "slideshow": {
     "slide_type": "subslide"
    }
   },
   "source": [
    "# Departure from Math-Wonderland\n",
    "\n",
    "* Hypothesis has built-in assistance for many common cases\n",
    "    * Alphabets for string generation\n",
    "    * Hypothesis-datetime package\n",
    "    * Hypothesis-fakefactory package"
   ]
  },
  {
   "cell_type": "markdown",
   "metadata": {
    "slideshow": {
     "slide_type": "slide"
    }
   },
   "source": [
    "# Summary\n",
    "\n",
    "* Dynamic tests increase case coverage at the cost of precision\n",
    "* Dynamic and static complement each other - none is a replacement for the other\n",
    "* For math-heavy code, dynamic tests are really awesome\n",
    "* For impure objects, sometimes difficult (but tools exist & steadily improve)"
   ]
  },
  {
   "cell_type": "markdown",
   "metadata": {
    "slideshow": {
     "slide_type": "subslide"
    }
   },
   "source": [
    "# Out of Scope\n",
    "\n",
    "* Custom strategies\n",
    "* Fuzzing for unstructured and mildly structured data:\n",
    "    * text\n",
    "    * images"
   ]
  },
  {
   "cell_type": "markdown",
   "metadata": {
    "slideshow": {
     "slide_type": "slide"
    }
   },
   "source": [
    "# Thanks for Listening!\n",
    "<img src=\"gfx/by_pic.jpg\" width=600px, height=auto align='center'>"
   ]
  }
 ],
 "metadata": {
  "celltoolbar": "Slideshow",
  "kernelspec": {
   "display_name": "Python 2",
   "language": "python",
   "name": "python2"
  },
  "language_info": {
   "codemirror_mode": {
    "name": "ipython",
    "version": 2
   },
   "file_extension": ".py",
   "mimetype": "text/x-python",
   "name": "python",
   "nbconvert_exporter": "python",
   "pygments_lexer": "ipython2",
   "version": "2.7.3"
  }
 },
 "nbformat": 4,
 "nbformat_minor": 0
}
